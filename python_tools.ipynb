{
 "cells": [
  {
   "cell_type": "markdown",
   "metadata": {},
   "source": [
    "# Função Lambda\n",
    "\n",
    "Também conhecidas como funções anônimas ou inline, não precisam ser definidas antes de serem usadas. Utilizamos a palavra chave ***lambda*** para defini-las. Ajuda a deixar seu código mais enxuto e organizado. Seu escopo:\n",
    "\n",
    "variavel = **lambda** params: expressão\n",
    "\n",
    "**Exemplo**: função lambda para extrair provedor de e-mail"
   ]
  },
  {
   "cell_type": "code",
   "execution_count": 1,
   "metadata": {},
   "outputs": [],
   "source": [
    "extrair_provedor_email = lambda email: email.split(sep='@')[-1]"
   ]
  },
  {
   "cell_type": "code",
   "execution_count": 3,
   "metadata": {},
   "outputs": [
    {
     "name": "stdout",
     "output_type": "stream",
     "text": [
      "lucas_1801@yahoo.com.br\n",
      "yahoo.com.br\n"
     ]
    }
   ],
   "source": [
    "email = 'lucas_1801@yahoo.com.br'\n",
    "print(email)\n",
    "\n",
    "provedor_email = extrair_provedor_email(email)\n",
    "print(provedor_email)"
   ]
  },
  {
   "cell_type": "markdown",
   "metadata": {},
   "source": [
    "**Exemplo**: função lambda com estruturas condicionais"
   ]
  },
  {
   "cell_type": "code",
   "execution_count": 12,
   "metadata": {},
   "outputs": [],
   "source": [
    "par_ou_impar = lambda numero: 'par' if numero % 2 == 0 else 'impar'"
   ]
  },
  {
   "cell_type": "code",
   "execution_count": 16,
   "metadata": {},
   "outputs": [
    {
     "name": "stdout",
     "output_type": "stream",
     "text": [
      "0 par\n",
      "1 impar\n",
      "2 par\n",
      "3 impar\n",
      "4 par\n",
      "5 impar\n",
      "6 par\n",
      "7 impar\n",
      "8 par\n",
      "9 impar\n",
      "10 par\n"
     ]
    }
   ],
   "source": [
    "numeros = range(0,11)\n",
    "\n",
    "for numeros in numeros:\n",
    "    print(numeros, par_ou_impar(numeros))"
   ]
  },
  {
   "cell_type": "markdown",
   "metadata": {},
   "source": [
    "## **Funções de alta ordem**\n",
    "\n",
    "São funções que recebem outras funções para parâmetro ou retornam outra função\n",
    "\n",
    "**Exemplo**: juros compostos dinâmicos\n"
   ]
  },
  {
   "cell_type": "code",
   "execution_count": 29,
   "metadata": {},
   "outputs": [],
   "source": [
    "def retorno(juros: float):\n",
    "    return lambda investimento: investimento * (1 + juros)"
   ]
  },
  {
   "cell_type": "code",
   "execution_count": 32,
   "metadata": {},
   "outputs": [
    {
     "name": "stdout",
     "output_type": "stream",
     "text": [
      "1050.0\n",
      "1100.0\n"
     ]
    }
   ],
   "source": [
    "#instanciando\n",
    "\n",
    "retorno_5_porcento = retorno(juros = 0.05)\n",
    "retorno_10_porcento = retorno(juros = 0.10)\n",
    "\n",
    "print(retorno_5_porcento(investimento = 1000))\n",
    "print(retorno_10_porcento(investimento = 1000))"
   ]
  },
  {
   "cell_type": "code",
   "execution_count": 34,
   "metadata": {},
   "outputs": [
    {
     "name": "stdout",
     "output_type": "stream",
     "text": [
      "1628.89\n"
     ]
    }
   ],
   "source": [
    "#aplicando\n",
    "\n",
    "anos = 10\n",
    "valor_inicial = 1000\n",
    "valor_final = 1000\n",
    "\n",
    "for ano in range(1, anos+1):\n",
    "    valor_final = retorno_5_porcento(investimento = valor_final)\n",
    "\n",
    "valor_final = round(valor_final, 2)\n",
    "print(valor_final)"
   ]
  },
  {
   "cell_type": "markdown",
   "metadata": {},
   "source": [
    "## Map\n",
    "O map() é uma função que recebe um ou mais objetos iteráveis, e itera os objetos aplicando-lhe uma função definida pelo programador, retornando uma lista com os elementos modificados. Aplica uma função em todos os elementos(list, dict, etc) e retorna todos os elementos transformados.\n",
    "\n",
    "A função map() faz basicamente o mapeamento de um valor para outro, quase como um objeto do tipo dicionário em Python. Este é um conceito de programação funcional, mas que pode ser útil em certas circunstâncias dentro do processo de análise de dados. Este é conceito fundamental de programação MapReduce, popular em tecnologias de processamento de Big Data, como Hadoop e Spark."
   ]
  },
  {
   "cell_type": "code",
   "execution_count": 39,
   "metadata": {},
   "outputs": [
    {
     "name": "stdout",
     "output_type": "stream",
     "text": [
      "0\n",
      "1\n",
      "8\n",
      "27\n",
      "64\n"
     ]
    }
   ],
   "source": [
    "# criando uma função para calcular o cubo de um numero\n",
    "def calc_cubo(num):\n",
    "    return num ** 3\n",
    "\n",
    "array = range(0,5)\n",
    "\n",
    "for i in array:\n",
    "    print(calc_cubo(i))"
   ]
  },
  {
   "cell_type": "code",
   "execution_count": 40,
   "metadata": {},
   "outputs": [],
   "source": [
    "# Com a função map() aplicamos uma função a um conjunto de elementos\n",
    "map_func = map(calc_cubo, array)\n",
    "\n",
    "#usando lambda\n",
    "map_func = map(lambda num: num**3, array)"
   ]
  },
  {
   "cell_type": "code",
   "execution_count": 41,
   "metadata": {},
   "outputs": [
    {
     "name": "stdout",
     "output_type": "stream",
     "text": [
      "<map object at 0x0000014F9D658DC0>\n"
     ]
    }
   ],
   "source": [
    "# A função map() retorna um objeto iterable\n",
    "print(map_func)"
   ]
  },
  {
   "cell_type": "code",
   "execution_count": 42,
   "metadata": {},
   "outputs": [
    {
     "name": "stdout",
     "output_type": "stream",
     "text": [
      "[0, 1, 8, 27, 64]\n"
     ]
    }
   ],
   "source": [
    "# Precisamos converter a saída da função map() para uma lista, a fim de visualizar os resultados\n",
    "print(list(map_func))"
   ]
  },
  {
   "cell_type": "code",
   "execution_count": 43,
   "metadata": {},
   "outputs": [
    {
     "name": "stdout",
     "output_type": "stream",
     "text": [
      "[0.0, 1.0, 2.0, 3.0, 4.0, 5.0, 6.0, 7.0, 8.0, 9.0, 10.0, 11.0, 12.0, 13.0, 14.0, 15.0, 16.0, 17.0, 18.0, 19.0]\n"
     ]
    }
   ],
   "source": [
    "map_func_2 = list(map(float, range(20)))\n",
    "print(map_func_2)"
   ]
  },
  {
   "cell_type": "code",
   "execution_count": 44,
   "metadata": {},
   "outputs": [
    {
     "name": "stdout",
     "output_type": "stream",
     "text": [
      "[0.0, 1.0, 1.4142135623730951, 1.7320508075688772, 2.0]\n"
     ]
    }
   ],
   "source": [
    "from math import sqrt\n",
    "\n",
    "array2 = list(array)\n",
    "print(list(map(sqrt, array2[0:8])))"
   ]
  },
  {
   "cell_type": "code",
   "execution_count": 45,
   "metadata": {},
   "outputs": [
    {
     "data": {
      "text/plain": [
       "<map at 0x14f9e041d90>"
      ]
     },
     "execution_count": 45,
     "metadata": {},
     "output_type": "execute_result"
    }
   ],
   "source": [
    "map(None, [1, 3, 5]) # [1, 3, 5]\n",
    "map(abs, [-1, -2, -3]) # [1, 2, 3]\n",
    "map(str, [2, 4, 6]) # ['2', '4', '6']"
   ]
  },
  {
   "cell_type": "markdown",
   "metadata": {},
   "source": [
    "**Exemplo**: função lambda e map aplicadas juntas"
   ]
  },
  {
   "cell_type": "code",
   "execution_count": 27,
   "metadata": {},
   "outputs": [
    {
     "name": "stdout",
     "output_type": "stream",
     "text": [
      "[0, 1, 2, 3, 4, 5, 6, 7, 8, 9]\n",
      "[0, 2, 4, 6, 8, 10, 12, 14, 16, 18]\n"
     ]
    }
   ],
   "source": [
    "mylist = list(range(0,10))\n",
    "print(mylist)\n",
    "newlist = map(lambda num: num*2, mylist)\n",
    "print(list(newlist))"
   ]
  },
  {
   "cell_type": "markdown",
   "metadata": {},
   "source": [
    "**Exemplo**: função lambda e map para extrair provedor de email"
   ]
  },
  {
   "cell_type": "code",
   "execution_count": 47,
   "metadata": {},
   "outputs": [
    {
     "name": "stdout",
     "output_type": "stream",
     "text": [
      "['gmail.com', 'outlook.com', 'yahoo.com.br']\n"
     ]
    }
   ],
   "source": [
    "emails = ['teste@gmail.com', 'fernandof@outlook.com', 'passarinho@yahoo.com.br']\n",
    "provedores = map(lambda email: email.split(sep='@')[-1], emails)\n",
    "print(list(provedores))"
   ]
  },
  {
   "cell_type": "markdown",
   "metadata": {},
   "source": [
    "# **Filter**\n",
    "\n",
    "Permite filtar elementos de uma lista. Aplica uma função lógica que retorna um booleano em todos os elementos de uma coleção (list, dict, etc). Retornamos os valores onde o resultado é **TRUE** e filtramos os valores onde a expressão retorna **FALSE**\n",
    "\n",
    "variavel = **filter**(função, coleção)"
   ]
  },
  {
   "cell_type": "code",
   "execution_count": 55,
   "metadata": {},
   "outputs": [
    {
     "data": {
      "text/plain": [
       "[1, 3]"
      ]
     },
     "execution_count": 55,
     "metadata": {},
     "output_type": "execute_result"
    }
   ],
   "source": [
    "num = [1,2,3]\n",
    "eh_impar = filter(lambda num: num % 2 != 0, num)\n",
    "list(eh_impar) # lista retornando apenas os valores TRUE, no caso numeros impar contidos na lista."
   ]
  },
  {
   "cell_type": "code",
   "execution_count": 60,
   "metadata": {},
   "outputs": [
    {
     "data": {
      "text/plain": [
       "[False, True, False, True, False, True, False, True]"
      ]
     },
     "execution_count": 60,
     "metadata": {},
     "output_type": "execute_result"
    }
   ],
   "source": [
    "num = range(0,8)\n",
    "eh_impar = lambda num: num % 2 != 0\n",
    "list(map(eh_impar, num)) "
   ]
  },
  {
   "cell_type": "code",
   "execution_count": 61,
   "metadata": {},
   "outputs": [
    {
     "data": {
      "text/plain": [
       "[1, 3, 5, 7]"
      ]
     },
     "execution_count": 61,
     "metadata": {},
     "output_type": "execute_result"
    }
   ],
   "source": [
    "list(filter(eh_impar, num)) # observe a diferença do resultado entre a função map e o filter"
   ]
  },
  {
   "cell_type": "markdown",
   "metadata": {},
   "source": [
    "**Exemplo**: função lambda e filter para filtrar determinado provedor de email"
   ]
  },
  {
   "cell_type": "code",
   "execution_count": 65,
   "metadata": {},
   "outputs": [
    {
     "data": {
      "text/plain": [
       "['teste@gmail.com', 'vito@gmail.com']"
      ]
     },
     "execution_count": 65,
     "metadata": {},
     "output_type": "execute_result"
    }
   ],
   "source": [
    "emails = ['teste@gmail.com', 'fernandof@outlook.com', 'passarinho@yahoo.com.br', 'vito@gmail.com']\n",
    "emails_google = filter(lambda email: 'gmail' in email, emails)\n",
    "\n",
    "list(emails_google)"
   ]
  },
  {
   "cell_type": "code",
   "execution_count": 18,
   "metadata": {},
   "outputs": [
    {
     "data": {
      "text/plain": [
       "2"
      ]
     },
     "execution_count": 18,
     "metadata": {},
     "output_type": "execute_result"
    }
   ],
   "source": [
    "lista_frases = ['big data',\n",
    "                'machine learning com big data e algoritmos com big data',\n",
    "                'data science e big data',\n",
    "                'internet das coisas',\n",
    "                'big data esta revolucionando o mundo, pois big data usa o imenso volume de dados gerados diariamente pelas redes']\n",
    "\n",
    "lista_frases[4].count(word)\n"
   ]
  },
  {
   "cell_type": "code",
   "execution_count": 24,
   "metadata": {},
   "outputs": [
    {
     "data": {
      "text/plain": [
       "['machine learning com big data e algoritmos com big data',\n",
       " 'big data esta revolucionando o mundo, pois big data usa o imenso volume de dados gerados diariamente pelas redes']"
      ]
     },
     "execution_count": 24,
     "metadata": {},
     "output_type": "execute_result"
    }
   ],
   "source": [
    "word = 'big data'\n",
    "list(filter(lambda wordfind: wordfind.count(word) >= 2, lista_frases)) # retornando frases em que 'big data' aparece mais de 1 vez"
   ]
  },
  {
   "cell_type": "markdown",
   "metadata": {},
   "source": [
    "# **Reduce**\n",
    "\n",
    "Aplica uma função a uma sequência de elementos, dois a dois, até reduzir a sequência a um único elemento.\n",
    "\n",
    "variavel = **reduce**(função, coleção)"
   ]
  },
  {
   "cell_type": "code",
   "execution_count": 26,
   "metadata": {},
   "outputs": [],
   "source": [
    "from functools import reduce"
   ]
  },
  {
   "cell_type": "code",
   "execution_count": 27,
   "metadata": {},
   "outputs": [],
   "source": [
    "num = [1,2,3,4,5]"
   ]
  },
  {
   "cell_type": "code",
   "execution_count": 29,
   "metadata": {},
   "outputs": [
    {
     "data": {
      "text/plain": [
       "15"
      ]
     },
     "execution_count": 29,
     "metadata": {},
     "output_type": "execute_result"
    }
   ],
   "source": [
    "soma = reduce(lambda x,y: x+y, num)\n",
    "soma"
   ]
  },
  {
   "cell_type": "markdown",
   "metadata": {},
   "source": [
    "**Exemplo**: Encontrar o maior número de uma lista"
   ]
  },
  {
   "cell_type": "code",
   "execution_count": 35,
   "metadata": {},
   "outputs": [],
   "source": [
    "maiornum = lambda primeiro, segundo: primeiro if primeiro >= segundo else segundo "
   ]
  },
  {
   "cell_type": "code",
   "execution_count": 36,
   "metadata": {},
   "outputs": [
    {
     "name": "stdout",
     "output_type": "stream",
     "text": [
      "10\n"
     ]
    }
   ],
   "source": [
    "primeiro = 1\n",
    "segundo= 10 \n",
    "print(maiornum(primeiro, segundo))"
   ]
  },
  {
   "cell_type": "code",
   "execution_count": 13,
   "metadata": {
    "scrolled": true
   },
   "outputs": [
    {
     "name": "stdout",
     "output_type": "stream",
     "text": [
      "[87, 79, 50, 67, 100, 28, 21, 67, 22, 97, 73, 24, 58, 66, 65, 13, 2, 71, 1, 48, 51, 33, 57, 58, 72, 97, 54, 1, 29, 57, 67, 94, 48, 7, 55, 7, 69, 36, 93, 80, 22, 34, 66, 76, 6, 64, 62, 46, 60, 20, 96, 71, 84, 5, 69, 50, 88, 31, 50, 15, 82, 98, 3, 46, 19, 41, 9, 66, 43, 98, 13, 96, 51, 60, 71, 86, 38, 45, 62, 2, 29, 28, 60, 87, 64, 19, 15, 75, 12, 4, 89, 58, 82, 12, 24, 69, 12, 51, 12, 38]\n"
     ]
    },
    {
     "data": {
      "text/plain": [
       "'When you are not interested in some values returned by a function we use underscore in place of variable name.\\nBasically it means you are not interested in how many times the loop is run till now just that it should run \\nsome specific number of times overall.'"
      ]
     },
     "execution_count": 13,
     "metadata": {},
     "output_type": "execute_result"
    }
   ],
   "source": [
    "from random import random \n",
    "\n",
    "num = [round(100 * random()) for _ in range (0,100)]\n",
    "print(num)\n",
    "\n",
    "'''When you are not interested in some values returned by a function we use underscore in place of variable name.\n",
    "Basically it means you are not interested in how many times the loop is run till now just that it should run \n",
    "some specific number of times overall.'''"
   ]
  },
  {
   "cell_type": "code",
   "execution_count": 38,
   "metadata": {},
   "outputs": [
    {
     "data": {
      "text/plain": [
       "100"
      ]
     },
     "execution_count": 38,
     "metadata": {},
     "output_type": "execute_result"
    }
   ],
   "source": [
    "maior_numero = reduce(maiornum, num) \n",
    "maior_numero"
   ]
  },
  {
   "cell_type": "code",
   "execution_count": 41,
   "metadata": {},
   "outputs": [
    {
     "data": {
      "text/plain": [
       "100"
      ]
     },
     "execution_count": 41,
     "metadata": {},
     "output_type": "execute_result"
    }
   ],
   "source": [
    "#fazendo com lambda junto\n",
    "\n",
    "maior_numero = reduce(lambda primeiro, segundo: primeiro if primeiro >= segundo else segundo, num )\n",
    "maior_numero"
   ]
  },
  {
   "cell_type": "markdown",
   "metadata": {},
   "source": [
    "**Exemplo**: Combinação de métodos funcionais"
   ]
  },
  {
   "cell_type": "code",
   "execution_count": 46,
   "metadata": {},
   "outputs": [
    {
     "data": {
      "text/plain": [
       "176409"
      ]
     },
     "execution_count": 46,
     "metadata": {},
     "output_type": "execute_result"
    }
   ],
   "source": [
    "soma_numeros = reduce(\n",
    "    lambda x, y: x + y,\n",
    "    filter(\n",
    "        lambda numero: numero % 2 != 0,\n",
    "        map(lambda numero: numero ** 2, num)\n",
    "    )\n",
    ")\n",
    "soma_numeros"
   ]
  },
  {
   "cell_type": "markdown",
   "metadata": {},
   "source": [
    "# List Comprehension\n",
    "\n",
    "É uma forma de iterar pelos elementos das listas de maneira \"mais direta\" ao invés do uso classico. Com esse conceito, podemos otimizar a utilização de listas, sua criação e seu manuseio, além de deminuir algumas linhas de código\n",
    "\n",
    "**Estrutura**:\n",
    "\n",
    "lista = [expressão for item in interable]\n"
   ]
  },
  {
   "cell_type": "markdown",
   "metadata": {},
   "source": [
    "**Exemplo**: Comparando list comprehension com o modo classico"
   ]
  },
  {
   "cell_type": "code",
   "execution_count": 3,
   "metadata": {},
   "outputs": [
    {
     "name": "stdout",
     "output_type": "stream",
     "text": [
      "[180.0, 480.0, 900.0, 1410.0]\n"
     ]
    }
   ],
   "source": [
    "preco_produto =[300, 800, 1500, 2350]\n",
    "prod = ['tenis', 'mesa', 'tablet', 'celular']\n",
    "\n",
    "# usando um for\n",
    "impostos = []\n",
    "taxa_imposto = 0.6\n",
    "for item in preco_produto:\n",
    "    impostos.append(item * taxa_imposto)\n",
    "print(impostos)\n",
    "    "
   ]
  },
  {
   "cell_type": "code",
   "execution_count": 4,
   "metadata": {},
   "outputs": [
    {
     "data": {
      "text/plain": [
       "[180.0, 480.0, 900.0, 1410.0]"
      ]
     },
     "execution_count": 4,
     "metadata": {},
     "output_type": "execute_result"
    }
   ],
   "source": [
    "#usando list comprehension\n",
    "\n",
    "impostos = [item * taxa_imposto for item in preco_produto]\n",
    "impostos"
   ]
  },
  {
   "cell_type": "code",
   "execution_count": 6,
   "metadata": {},
   "outputs": [
    {
     "data": {
      "text/plain": [
       "[360.0, 960.0, 1800.0, 2820.0]"
      ]
     },
     "execution_count": 6,
     "metadata": {},
     "output_type": "execute_result"
    }
   ],
   "source": [
    "num = range(0,10)\n",
    "\n",
    "[item * 2 for item in impostos]"
   ]
  },
  {
   "cell_type": "code",
   "execution_count": 9,
   "metadata": {},
   "outputs": [
    {
     "data": {
      "text/plain": [
       "[1800.0, 2820.0]"
      ]
     },
     "execution_count": 9,
     "metadata": {},
     "output_type": "execute_result"
    }
   ],
   "source": [
    "[item * 2 for item in impostos if item >= 900]"
   ]
  },
  {
   "cell_type": "markdown",
   "metadata": {},
   "source": [
    "**Exemplo**: retornando numeros pares de uma lista de numeros"
   ]
  },
  {
   "cell_type": "code",
   "execution_count": 21,
   "metadata": {},
   "outputs": [
    {
     "data": {
      "text/plain": [
       "[26, 28, 20, 6, 28, 26, 30, 30, 4, 2, 16, 20, 6]"
      ]
     },
     "execution_count": 21,
     "metadata": {},
     "output_type": "execute_result"
    }
   ],
   "source": [
    "num = [round(30 * random()) for _ in range(0, 20)]\n",
    "num\n",
    "\n",
    "[item for item in num if item % 2 == 0]"
   ]
  },
  {
   "cell_type": "code",
   "execution_count": null,
   "metadata": {},
   "outputs": [],
   "source": []
  },
  {
   "cell_type": "code",
   "execution_count": null,
   "metadata": {},
   "outputs": [],
   "source": []
  }
 ],
 "metadata": {
  "interpreter": {
   "hash": "cef9e06bb236b2a8629b07e87a04b187b952a0f661eff5533360a155783f0c33"
  },
  "kernelspec": {
   "display_name": "Python 3 (ipykernel)",
   "language": "python",
   "name": "python3"
  },
  "language_info": {
   "codemirror_mode": {
    "name": "ipython",
    "version": 3
   },
   "file_extension": ".py",
   "mimetype": "text/x-python",
   "name": "python",
   "nbconvert_exporter": "python",
   "pygments_lexer": "ipython3",
   "version": "3.9.7"
  }
 },
 "nbformat": 4,
 "nbformat_minor": 2
}
