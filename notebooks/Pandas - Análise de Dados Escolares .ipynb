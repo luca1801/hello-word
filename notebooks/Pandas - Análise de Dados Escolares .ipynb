{
 "cells": [
  {
   "cell_type": "markdown",
   "metadata": {},
   "source": [
    "# <font color='blue'>Data Science Academy</font>\n",
    "# <font color='blue'>Big Data Real-Time Analytics com Python e Spark</font>\n",
    "\n",
    "## <font color='blue'>Estudo de Caso 2</font>\n",
    "\n",
    "## <font color='blue'>Data Science na Educação – Análise de Dados Escolares com Pandas</font>"
   ]
  },
  {
   "cell_type": "markdown",
   "metadata": {},
   "source": [
    "![title](imagens/EstudoCaso2.png)"
   ]
  },
  {
   "cell_type": "code",
   "execution_count": null,
   "metadata": {},
   "outputs": [],
   "source": [
    "# Versão da Linguagem Python\n",
    "from platform import python_version\n",
    "print('Versão da Linguagem Python Usada Neste Jupyter Notebook:', python_version())"
   ]
  },
  {
   "cell_type": "code",
   "execution_count": null,
   "metadata": {},
   "outputs": [],
   "source": [
    "# Para atualizar um pacote, execute o comando abaixo no terminal ou prompt de comando:\n",
    "# pip install -U nome_pacote\n",
    "\n",
    "# Para instalar a versão exata de um pacote, execute o comando abaixo no terminal ou prompt de comando:\n",
    "#!pip install nome_pacote==versão_desejada\n",
    "\n",
    "# Depois de instalar ou atualizar o pacote, reinicie o jupyter notebook.\n",
    "\n",
    "# Instala o pacote watermark. \n",
    "# Esse pacote é usado para gravar as versões de outros pacotes usados neste jupyter notebook.\n",
    "#!pip install -q -U watermark"
   ]
  },
  {
   "cell_type": "code",
   "execution_count": 2,
   "metadata": {},
   "outputs": [],
   "source": [
    "# Imports\n",
    "import pandas as pd"
   ]
  },
  {
   "cell_type": "code",
   "execution_count": 3,
   "metadata": {},
   "outputs": [
    {
     "name": "stdout",
     "output_type": "stream",
     "text": [
      "Author: Data Science Academy\n",
      "\n",
      "pandas: 1.3.4\n",
      "sys   : 3.9.7 (default, Sep 16 2021, 16:59:28) [MSC v.1916 64 bit (AMD64)]\n",
      "\n"
     ]
    }
   ],
   "source": [
    "# Versões dos pacotes usados neste jupyter notebook\n",
    "%reload_ext watermark\n",
    "%watermark -a \"Data Science Academy\" --iversions"
   ]
  },
  {
   "cell_type": "markdown",
   "metadata": {},
   "source": [
    "## Carregando os Dados"
   ]
  },
  {
   "cell_type": "code",
   "execution_count": 4,
   "metadata": {},
   "outputs": [],
   "source": [
    "# Carrega o dataset de escolas\n",
    "dados_escolas = pd.read_csv(\"dados/dataset_escolas.csv\")"
   ]
  },
  {
   "cell_type": "code",
   "execution_count": 5,
   "metadata": {},
   "outputs": [
    {
     "data": {
      "text/plain": [
       "(15, 5)"
      ]
     },
     "execution_count": 5,
     "metadata": {},
     "output_type": "execute_result"
    }
   ],
   "source": [
    "# Shape\n",
    "dados_escolas.shape"
   ]
  },
  {
   "cell_type": "code",
   "execution_count": 6,
   "metadata": {},
   "outputs": [
    {
     "data": {
      "text/html": [
       "<div>\n",
       "<style scoped>\n",
       "    .dataframe tbody tr th:only-of-type {\n",
       "        vertical-align: middle;\n",
       "    }\n",
       "\n",
       "    .dataframe tbody tr th {\n",
       "        vertical-align: top;\n",
       "    }\n",
       "\n",
       "    .dataframe thead th {\n",
       "        text-align: right;\n",
       "    }\n",
       "</style>\n",
       "<table border=\"1\" class=\"dataframe\">\n",
       "  <thead>\n",
       "    <tr style=\"text-align: right;\">\n",
       "      <th></th>\n",
       "      <th>ID_Escola</th>\n",
       "      <th>Nome_Escola</th>\n",
       "      <th>Tipo_Escola</th>\n",
       "      <th>Numero_Alunos</th>\n",
       "      <th>Orcamento_Anual</th>\n",
       "    </tr>\n",
       "  </thead>\n",
       "  <tbody>\n",
       "    <tr>\n",
       "      <th>0</th>\n",
       "      <td>0</td>\n",
       "      <td>Escola A</td>\n",
       "      <td>Publica</td>\n",
       "      <td>2917</td>\n",
       "      <td>1910635</td>\n",
       "    </tr>\n",
       "    <tr>\n",
       "      <th>1</th>\n",
       "      <td>1</td>\n",
       "      <td>Escola B</td>\n",
       "      <td>Publica</td>\n",
       "      <td>2949</td>\n",
       "      <td>1884411</td>\n",
       "    </tr>\n",
       "    <tr>\n",
       "      <th>2</th>\n",
       "      <td>2</td>\n",
       "      <td>Escola C</td>\n",
       "      <td>Particular</td>\n",
       "      <td>1761</td>\n",
       "      <td>1056600</td>\n",
       "    </tr>\n",
       "    <tr>\n",
       "      <th>3</th>\n",
       "      <td>3</td>\n",
       "      <td>Escola D</td>\n",
       "      <td>Publica</td>\n",
       "      <td>4635</td>\n",
       "      <td>3022020</td>\n",
       "    </tr>\n",
       "    <tr>\n",
       "      <th>4</th>\n",
       "      <td>4</td>\n",
       "      <td>Escola E</td>\n",
       "      <td>Particular</td>\n",
       "      <td>1468</td>\n",
       "      <td>917500</td>\n",
       "    </tr>\n",
       "  </tbody>\n",
       "</table>\n",
       "</div>"
      ],
      "text/plain": [
       "   ID_Escola Nome_Escola Tipo_Escola  Numero_Alunos  Orcamento_Anual\n",
       "0          0    Escola A     Publica           2917          1910635\n",
       "1          1    Escola B     Publica           2949          1884411\n",
       "2          2    Escola C  Particular           1761          1056600\n",
       "3          3    Escola D     Publica           4635          3022020\n",
       "4          4    Escola E  Particular           1468           917500"
      ]
     },
     "execution_count": 6,
     "metadata": {},
     "output_type": "execute_result"
    }
   ],
   "source": [
    "# Visualiza\n",
    "dados_escolas.head()"
   ]
  },
  {
   "cell_type": "code",
   "execution_count": 7,
   "metadata": {},
   "outputs": [],
   "source": [
    "# Dataset de estudantes\n",
    "dados_estudantes = pd.read_csv(\"dados/dataset_estudantes.csv\")"
   ]
  },
  {
   "cell_type": "code",
   "execution_count": 8,
   "metadata": {},
   "outputs": [
    {
     "data": {
      "text/plain": [
       "(39160, 7)"
      ]
     },
     "execution_count": 8,
     "metadata": {},
     "output_type": "execute_result"
    }
   ],
   "source": [
    "# Shape\n",
    "dados_estudantes.shape"
   ]
  },
  {
   "cell_type": "code",
   "execution_count": 9,
   "metadata": {},
   "outputs": [
    {
     "data": {
      "text/html": [
       "<div>\n",
       "<style scoped>\n",
       "    .dataframe tbody tr th:only-of-type {\n",
       "        vertical-align: middle;\n",
       "    }\n",
       "\n",
       "    .dataframe tbody tr th {\n",
       "        vertical-align: top;\n",
       "    }\n",
       "\n",
       "    .dataframe thead th {\n",
       "        text-align: right;\n",
       "    }\n",
       "</style>\n",
       "<table border=\"1\" class=\"dataframe\">\n",
       "  <thead>\n",
       "    <tr style=\"text-align: right;\">\n",
       "      <th></th>\n",
       "      <th>ID_Estudante</th>\n",
       "      <th>Nome_Estudante</th>\n",
       "      <th>Genero</th>\n",
       "      <th>Serie</th>\n",
       "      <th>Nome_Escola</th>\n",
       "      <th>Nota_Redacao</th>\n",
       "      <th>Nota_Matematica</th>\n",
       "    </tr>\n",
       "  </thead>\n",
       "  <tbody>\n",
       "    <tr>\n",
       "      <th>0</th>\n",
       "      <td>0</td>\n",
       "      <td>Kevin Bradley</td>\n",
       "      <td>M</td>\n",
       "      <td>6</td>\n",
       "      <td>Escola A</td>\n",
       "      <td>66</td>\n",
       "      <td>79</td>\n",
       "    </tr>\n",
       "    <tr>\n",
       "      <th>1</th>\n",
       "      <td>1</td>\n",
       "      <td>Paul Smith</td>\n",
       "      <td>M</td>\n",
       "      <td>9</td>\n",
       "      <td>Escola A</td>\n",
       "      <td>94</td>\n",
       "      <td>61</td>\n",
       "    </tr>\n",
       "    <tr>\n",
       "      <th>2</th>\n",
       "      <td>2</td>\n",
       "      <td>John Rodriguez</td>\n",
       "      <td>M</td>\n",
       "      <td>9</td>\n",
       "      <td>Escola A</td>\n",
       "      <td>90</td>\n",
       "      <td>60</td>\n",
       "    </tr>\n",
       "    <tr>\n",
       "      <th>3</th>\n",
       "      <td>3</td>\n",
       "      <td>Oliver Scott</td>\n",
       "      <td>M</td>\n",
       "      <td>9</td>\n",
       "      <td>Escola A</td>\n",
       "      <td>67</td>\n",
       "      <td>58</td>\n",
       "    </tr>\n",
       "    <tr>\n",
       "      <th>4</th>\n",
       "      <td>4</td>\n",
       "      <td>William Ray</td>\n",
       "      <td>F</td>\n",
       "      <td>6</td>\n",
       "      <td>Escola A</td>\n",
       "      <td>97</td>\n",
       "      <td>84</td>\n",
       "    </tr>\n",
       "  </tbody>\n",
       "</table>\n",
       "</div>"
      ],
      "text/plain": [
       "   ID_Estudante  Nome_Estudante Genero  Serie Nome_Escola  Nota_Redacao  \\\n",
       "0             0   Kevin Bradley      M      6    Escola A            66   \n",
       "1             1      Paul Smith      M      9    Escola A            94   \n",
       "2             2  John Rodriguez      M      9    Escola A            90   \n",
       "3             3    Oliver Scott      M      9    Escola A            67   \n",
       "4             4     William Ray      F      6    Escola A            97   \n",
       "\n",
       "   Nota_Matematica  \n",
       "0               79  \n",
       "1               61  \n",
       "2               60  \n",
       "3               58  \n",
       "4               84  "
      ]
     },
     "execution_count": 9,
     "metadata": {},
     "output_type": "execute_result"
    }
   ],
   "source": [
    "# Visualiza\n",
    "dados_estudantes.head()"
   ]
  },
  {
   "cell_type": "code",
   "execution_count": 10,
   "metadata": {},
   "outputs": [],
   "source": [
    "# Combina os datasets\n",
    "dados_full = pd.merge(dados_estudantes, dados_escolas, how = \"left\", on = [\"Nome_Escola\", \"Nome_Escola\"])"
   ]
  },
  {
   "cell_type": "code",
   "execution_count": 11,
   "metadata": {},
   "outputs": [
    {
     "data": {
      "text/plain": [
       "(39160, 11)"
      ]
     },
     "execution_count": 11,
     "metadata": {},
     "output_type": "execute_result"
    }
   ],
   "source": [
    "# Shape\n",
    "dados_full.shape"
   ]
  },
  {
   "cell_type": "code",
   "execution_count": 12,
   "metadata": {},
   "outputs": [
    {
     "data": {
      "text/html": [
       "<div>\n",
       "<style scoped>\n",
       "    .dataframe tbody tr th:only-of-type {\n",
       "        vertical-align: middle;\n",
       "    }\n",
       "\n",
       "    .dataframe tbody tr th {\n",
       "        vertical-align: top;\n",
       "    }\n",
       "\n",
       "    .dataframe thead th {\n",
       "        text-align: right;\n",
       "    }\n",
       "</style>\n",
       "<table border=\"1\" class=\"dataframe\">\n",
       "  <thead>\n",
       "    <tr style=\"text-align: right;\">\n",
       "      <th></th>\n",
       "      <th>ID_Estudante</th>\n",
       "      <th>Nome_Estudante</th>\n",
       "      <th>Genero</th>\n",
       "      <th>Serie</th>\n",
       "      <th>Nome_Escola</th>\n",
       "      <th>Nota_Redacao</th>\n",
       "      <th>Nota_Matematica</th>\n",
       "      <th>ID_Escola</th>\n",
       "      <th>Tipo_Escola</th>\n",
       "      <th>Numero_Alunos</th>\n",
       "      <th>Orcamento_Anual</th>\n",
       "    </tr>\n",
       "  </thead>\n",
       "  <tbody>\n",
       "    <tr>\n",
       "      <th>0</th>\n",
       "      <td>0</td>\n",
       "      <td>Kevin Bradley</td>\n",
       "      <td>M</td>\n",
       "      <td>6</td>\n",
       "      <td>Escola A</td>\n",
       "      <td>66</td>\n",
       "      <td>79</td>\n",
       "      <td>0</td>\n",
       "      <td>Publica</td>\n",
       "      <td>2917</td>\n",
       "      <td>1910635</td>\n",
       "    </tr>\n",
       "    <tr>\n",
       "      <th>1</th>\n",
       "      <td>1</td>\n",
       "      <td>Paul Smith</td>\n",
       "      <td>M</td>\n",
       "      <td>9</td>\n",
       "      <td>Escola A</td>\n",
       "      <td>94</td>\n",
       "      <td>61</td>\n",
       "      <td>0</td>\n",
       "      <td>Publica</td>\n",
       "      <td>2917</td>\n",
       "      <td>1910635</td>\n",
       "    </tr>\n",
       "    <tr>\n",
       "      <th>2</th>\n",
       "      <td>2</td>\n",
       "      <td>John Rodriguez</td>\n",
       "      <td>M</td>\n",
       "      <td>9</td>\n",
       "      <td>Escola A</td>\n",
       "      <td>90</td>\n",
       "      <td>60</td>\n",
       "      <td>0</td>\n",
       "      <td>Publica</td>\n",
       "      <td>2917</td>\n",
       "      <td>1910635</td>\n",
       "    </tr>\n",
       "    <tr>\n",
       "      <th>3</th>\n",
       "      <td>3</td>\n",
       "      <td>Oliver Scott</td>\n",
       "      <td>M</td>\n",
       "      <td>9</td>\n",
       "      <td>Escola A</td>\n",
       "      <td>67</td>\n",
       "      <td>58</td>\n",
       "      <td>0</td>\n",
       "      <td>Publica</td>\n",
       "      <td>2917</td>\n",
       "      <td>1910635</td>\n",
       "    </tr>\n",
       "    <tr>\n",
       "      <th>4</th>\n",
       "      <td>4</td>\n",
       "      <td>William Ray</td>\n",
       "      <td>F</td>\n",
       "      <td>6</td>\n",
       "      <td>Escola A</td>\n",
       "      <td>97</td>\n",
       "      <td>84</td>\n",
       "      <td>0</td>\n",
       "      <td>Publica</td>\n",
       "      <td>2917</td>\n",
       "      <td>1910635</td>\n",
       "    </tr>\n",
       "  </tbody>\n",
       "</table>\n",
       "</div>"
      ],
      "text/plain": [
       "   ID_Estudante  Nome_Estudante Genero  Serie Nome_Escola  Nota_Redacao  \\\n",
       "0             0   Kevin Bradley      M      6    Escola A            66   \n",
       "1             1      Paul Smith      M      9    Escola A            94   \n",
       "2             2  John Rodriguez      M      9    Escola A            90   \n",
       "3             3    Oliver Scott      M      9    Escola A            67   \n",
       "4             4     William Ray      F      6    Escola A            97   \n",
       "\n",
       "   Nota_Matematica  ID_Escola Tipo_Escola  Numero_Alunos  Orcamento_Anual  \n",
       "0               79          0     Publica           2917          1910635  \n",
       "1               61          0     Publica           2917          1910635  \n",
       "2               60          0     Publica           2917          1910635  \n",
       "3               58          0     Publica           2917          1910635  \n",
       "4               84          0     Publica           2917          1910635  "
      ]
     },
     "execution_count": 12,
     "metadata": {},
     "output_type": "execute_result"
    }
   ],
   "source": [
    "# Visualiza\n",
    "dados_full.head()"
   ]
  },
  {
   "cell_type": "code",
   "execution_count": 14,
   "metadata": {},
   "outputs": [
    {
     "data": {
      "text/plain": [
       "array([6, 9, 8, 7], dtype=int64)"
      ]
     },
     "execution_count": 14,
     "metadata": {},
     "output_type": "execute_result"
    }
   ],
   "source": [
    "# Séries escolares no dataset\n",
    "dados_full[\"Serie\"].unique()"
   ]
  },
  {
   "cell_type": "code",
   "execution_count": 15,
   "metadata": {},
   "outputs": [
    {
     "data": {
      "text/plain": [
       "array(['M', 'F'], dtype=object)"
      ]
     },
     "execution_count": 15,
     "metadata": {},
     "output_type": "execute_result"
    }
   ],
   "source": [
    "# Genero\n",
    "dados_full[\"Genero\"].unique()"
   ]
  },
  {
   "cell_type": "markdown",
   "metadata": {},
   "source": [
    "## Desafio de Análise de Dados\n",
    "\n",
    "Responda as perguntas abaixo."
   ]
  },
  {
   "cell_type": "markdown",
   "metadata": {},
   "source": [
    "> **1- Temos dados de quantas escolas?**"
   ]
  },
  {
   "cell_type": "code",
   "execution_count": 176,
   "metadata": {},
   "outputs": [
    {
     "data": {
      "text/plain": [
       "15"
      ]
     },
     "execution_count": 176,
     "metadata": {},
     "output_type": "execute_result"
    }
   ],
   "source": [
    "Total_Escolas = len(dados_full['Nome_Escola'].unique())\n",
    "Total_Escolas"
   ]
  },
  {
   "cell_type": "markdown",
   "metadata": {},
   "source": [
    "> **2- Qual o total de registros de estudantes na base de dados?**"
   ]
  },
  {
   "cell_type": "code",
   "execution_count": 175,
   "metadata": {},
   "outputs": [
    {
     "data": {
      "text/plain": [
       "39160"
      ]
     },
     "execution_count": 175,
     "metadata": {},
     "output_type": "execute_result"
    }
   ],
   "source": [
    "dados_full.Nome_Estudante.shape\n",
    "total_estudantes = dados_full.ID_Estudante.count()\n",
    "total_estudantes\n"
   ]
  },
  {
   "cell_type": "markdown",
   "metadata": {},
   "source": [
    "> **3- Qual o orçamento total considerando todas as escolas?**"
   ]
  },
  {
   "cell_type": "code",
   "execution_count": 161,
   "metadata": {},
   "outputs": [
    {
     "data": {
      "text/plain": [
       "24649428"
      ]
     },
     "execution_count": 161,
     "metadata": {},
     "output_type": "execute_result"
    }
   ],
   "source": [
    "teste = dados_full[['Nome_Escola', 'Orcamento_Anual']].groupby('Nome_Escola').agg('max')\n",
    "Total_Orcamento = teste.sum()\n",
    "Total_Orcamento[0]"
   ]
  },
  {
   "cell_type": "markdown",
   "metadata": {},
   "source": [
    "> **4- Qual a média da nota dos alunos em Redação?**"
   ]
  },
  {
   "cell_type": "code",
   "execution_count": 162,
   "metadata": {},
   "outputs": [
    {
     "data": {
      "text/plain": [
       "81.87574055158325"
      ]
     },
     "execution_count": 162,
     "metadata": {},
     "output_type": "execute_result"
    }
   ],
   "source": [
    "media_redacao = dados_full.Nota_Redacao.mean()\n",
    "media_redacao"
   ]
  },
  {
   "cell_type": "markdown",
   "metadata": {},
   "source": [
    "> **5- Qual a média da nota dos alunos em Matemática?**"
   ]
  },
  {
   "cell_type": "code",
   "execution_count": 163,
   "metadata": {},
   "outputs": [
    {
     "data": {
      "text/plain": [
       "78.98493360572012"
      ]
     },
     "execution_count": 163,
     "metadata": {},
     "output_type": "execute_result"
    }
   ],
   "source": [
    "media_matematica = dados_full.Nota_Matematica.mean()\n",
    "media_matematica\n"
   ]
  },
  {
   "cell_type": "markdown",
   "metadata": {},
   "source": [
    "> **6- Considerando que a nota de aprovação é 70, quantos alunos foram aprovados em Redação? (Entregue o resultado em valor absoluto e percentual)**"
   ]
  },
  {
   "cell_type": "code",
   "execution_count": 164,
   "metadata": {},
   "outputs": [
    {
     "data": {
      "text/plain": [
       "33600"
      ]
     },
     "execution_count": 164,
     "metadata": {},
     "output_type": "execute_result"
    }
   ],
   "source": [
    "#dados_full.info()\n",
    "Aprovados_Redacao = dados_full[dados_full.Nota_Redacao >= 70].count()['Nome_Estudante']\n",
    "Aprovados_Redacao"
   ]
  },
  {
   "cell_type": "code",
   "execution_count": 165,
   "metadata": {},
   "outputs": [
    {
     "data": {
      "text/plain": [
       "'85.80%'"
      ]
     },
     "execution_count": 165,
     "metadata": {},
     "output_type": "execute_result"
    }
   ],
   "source": [
    "'''\n",
    "def porc(porc):\n",
    "    #porc = (porc*100)/float(total_estudantes)\n",
    "    porc = (porc)/float(total_estudantes)\n",
    "    #print(round(porc_aprovados_redacao,2), '%')\n",
    "    return porc\n",
    "    \n",
    "Aprovados_Redacao2 = porc(Aprovados_Redacao)\n",
    "Aprovados_Redacao2\n",
    "'''\n",
    "\n",
    "# Aplicando função lambda\n",
    "porc_aprovados = lambda porc: porc/float(total_estudantes)\n",
    "Aprovados_Redacao2 = porc_aprovados(Aprovados_Redacao)\n",
    "\"{:.2%}\".format(Aprovados_Redacao2)\n"
   ]
  },
  {
   "cell_type": "markdown",
   "metadata": {},
   "source": [
    "> **7- Considerando que a nota de aprovação é 70, quantos alunos foram aprovados em Matemática? (Entregue o resultado em valor absoluto e percentual)**"
   ]
  },
  {
   "cell_type": "code",
   "execution_count": 166,
   "metadata": {},
   "outputs": [
    {
     "data": {
      "text/plain": [
       "29360"
      ]
     },
     "execution_count": 166,
     "metadata": {},
     "output_type": "execute_result"
    }
   ],
   "source": [
    "Aprovados_Matematica = dados_full[dados_full.Nota_Matematica >= 70].count()['Nome_Estudante']\n",
    "Aprovados_Matematica"
   ]
  },
  {
   "cell_type": "code",
   "execution_count": 167,
   "metadata": {},
   "outputs": [
    {
     "data": {
      "text/plain": [
       "0.7497446373850868"
      ]
     },
     "execution_count": 167,
     "metadata": {},
     "output_type": "execute_result"
    }
   ],
   "source": [
    "Aprovados_Matematica = porc(Aprovados_Matematica)\n",
    "Aprovados_Matematica"
   ]
  },
  {
   "cell_type": "markdown",
   "metadata": {},
   "source": [
    "> **8- Considerando que a nota de aprovação é 70, quantos alunos foram aprovados em Matemática e Redação? (Entregue o resultado em valor absoluto e percentual)**"
   ]
  },
  {
   "cell_type": "code",
   "execution_count": 168,
   "metadata": {},
   "outputs": [
    {
     "data": {
      "text/plain": [
       "25518"
      ]
     },
     "execution_count": 168,
     "metadata": {},
     "output_type": "execute_result"
    }
   ],
   "source": [
    "mask1 = dados_full.Nota_Matematica >= 70\n",
    "mask2 = dados_full.Nota_Redacao >= 70\n",
    "Aprovados_Redacao_matematica = dados_full[mask1 & mask2].count()['Nome_Estudante']\n",
    "Aprovados_Redacao_matematica"
   ]
  },
  {
   "cell_type": "code",
   "execution_count": 169,
   "metadata": {},
   "outputs": [],
   "source": [
    "Aprovados_Redacao_matematica = porc(Aprovados_Redacao_matematica)"
   ]
  },
  {
   "cell_type": "markdown",
   "metadata": {},
   "source": [
    "> **9- Crie um dataframe com os resultados das questões de 1 a 8 que você calculou acima. (Dica: crie um dicionário e depois converta em dataframe do Pandas)**"
   ]
  },
  {
   "cell_type": "code",
   "execution_count": 207,
   "metadata": {},
   "outputs": [],
   "source": [
    "dict = {'Total_Escolas': Total_Escolas,\n",
    "       'Qnt_Estudantes': total_estudantes,\n",
    "       'Orcamento_Todas_Escolas': int(Total_Orcamento[0]),\n",
    "       'Media_Redacao': media_redacao,\n",
    "       'Media_Matematica': media_matematica,\n",
    "       'Aprovados_Redacao(%)': Aprovados_Redacao2,\n",
    "       'Aprovados_Matematica(%)': Aprovados_Matematica,\n",
    "       'Aprovados_Matematica_Redacao(%)': Aprovados_Redacao_matematica\n",
    "       }\n"
   ]
  },
  {
   "cell_type": "code",
   "execution_count": 208,
   "metadata": {},
   "outputs": [
    {
     "data": {
      "text/html": [
       "<div>\n",
       "<style scoped>\n",
       "    .dataframe tbody tr th:only-of-type {\n",
       "        vertical-align: middle;\n",
       "    }\n",
       "\n",
       "    .dataframe tbody tr th {\n",
       "        vertical-align: top;\n",
       "    }\n",
       "\n",
       "    .dataframe thead th {\n",
       "        text-align: right;\n",
       "    }\n",
       "</style>\n",
       "<table border=\"1\" class=\"dataframe\">\n",
       "  <thead>\n",
       "    <tr style=\"text-align: right;\">\n",
       "      <th></th>\n",
       "      <th>Total_Escolas</th>\n",
       "      <th>Qnt_Estudantes</th>\n",
       "      <th>Orcamento_Todas_Escolas</th>\n",
       "      <th>Media_Redacao</th>\n",
       "      <th>Media_Matematica</th>\n",
       "      <th>Aprovados_Redacao(%)</th>\n",
       "      <th>Aprovados_Matematica(%)</th>\n",
       "      <th>Aprovados_Matematica_Redacao(%)</th>\n",
       "    </tr>\n",
       "  </thead>\n",
       "  <tbody>\n",
       "    <tr>\n",
       "      <th>0</th>\n",
       "      <td>15</td>\n",
       "      <td>39160</td>\n",
       "      <td>24649428</td>\n",
       "      <td>81.875741</td>\n",
       "      <td>78.984934</td>\n",
       "      <td>0.858018</td>\n",
       "      <td>0.749745</td>\n",
       "      <td>0.651634</td>\n",
       "    </tr>\n",
       "  </tbody>\n",
       "</table>\n",
       "</div>"
      ],
      "text/plain": [
       "   Total_Escolas  Qnt_Estudantes  Orcamento_Todas_Escolas  Media_Redacao  \\\n",
       "0             15           39160                 24649428      81.875741   \n",
       "\n",
       "   Media_Matematica  Aprovados_Redacao(%)  Aprovados_Matematica(%)  \\\n",
       "0         78.984934              0.858018                 0.749745   \n",
       "\n",
       "   Aprovados_Matematica_Redacao(%)  \n",
       "0                         0.651634  "
      ]
     },
     "execution_count": 208,
     "metadata": {},
     "output_type": "execute_result"
    }
   ],
   "source": [
    "df = pd.DataFrame([dict])\n",
    "df.head()"
   ]
  },
  {
   "cell_type": "markdown",
   "metadata": {},
   "source": [
    "> **10- Formate as colunas \"Total de Estudantes\" e \"Total Orçamento\" ajustando as casas decimais.**"
   ]
  },
  {
   "cell_type": "code",
   "execution_count": 209,
   "metadata": {},
   "outputs": [],
   "source": [
    "df['Qnt_Estudantes'] = df['Qnt_Estudantes'].map('{:,}'.format)\n",
    "df['Orcamento_Todas_Escolas'] = df['Orcamento_Todas_Escolas'].map('${:,.2f}'.format)\n",
    "\n",
    "df.dtypes\n",
    "df['Aprovados_Redacao(%)'] = \"{:.2%}\".format(Aprovados_Redacao2)\n",
    "df['Aprovados_Matematica(%)'] = \"{:.2%}\".format(Aprovados_Matematica)\n",
    "df['Aprovados_Matematica_Redacao(%)'] = \"{:.2%}\".format(Aprovados_Redacao_matematica)"
   ]
  },
  {
   "cell_type": "code",
   "execution_count": 210,
   "metadata": {},
   "outputs": [
    {
     "data": {
      "text/html": [
       "<div>\n",
       "<style scoped>\n",
       "    .dataframe tbody tr th:only-of-type {\n",
       "        vertical-align: middle;\n",
       "    }\n",
       "\n",
       "    .dataframe tbody tr th {\n",
       "        vertical-align: top;\n",
       "    }\n",
       "\n",
       "    .dataframe thead th {\n",
       "        text-align: right;\n",
       "    }\n",
       "</style>\n",
       "<table border=\"1\" class=\"dataframe\">\n",
       "  <thead>\n",
       "    <tr style=\"text-align: right;\">\n",
       "      <th></th>\n",
       "      <th>Total_Escolas</th>\n",
       "      <th>Qnt_Estudantes</th>\n",
       "      <th>Orcamento_Todas_Escolas</th>\n",
       "      <th>Media_Redacao</th>\n",
       "      <th>Media_Matematica</th>\n",
       "      <th>Aprovados_Redacao(%)</th>\n",
       "      <th>Aprovados_Matematica(%)</th>\n",
       "      <th>Aprovados_Matematica_Redacao(%)</th>\n",
       "    </tr>\n",
       "  </thead>\n",
       "  <tbody>\n",
       "    <tr>\n",
       "      <th>0</th>\n",
       "      <td>15</td>\n",
       "      <td>39,160</td>\n",
       "      <td>$24,649,428.00</td>\n",
       "      <td>81.875741</td>\n",
       "      <td>78.984934</td>\n",
       "      <td>85.80%</td>\n",
       "      <td>74.97%</td>\n",
       "      <td>65.16%</td>\n",
       "    </tr>\n",
       "  </tbody>\n",
       "</table>\n",
       "</div>"
      ],
      "text/plain": [
       "   Total_Escolas Qnt_Estudantes Orcamento_Todas_Escolas  Media_Redacao  \\\n",
       "0             15         39,160          $24,649,428.00      81.875741   \n",
       "\n",
       "   Media_Matematica Aprovados_Redacao(%) Aprovados_Matematica(%)  \\\n",
       "0         78.984934               85.80%                  74.97%   \n",
       "\n",
       "  Aprovados_Matematica_Redacao(%)  \n",
       "0                          65.16%  "
      ]
     },
     "execution_count": 210,
     "metadata": {},
     "output_type": "execute_result"
    }
   ],
   "source": [
    "df"
   ]
  },
  {
   "cell_type": "markdown",
   "metadata": {},
   "source": [
    "# Fim"
   ]
  }
 ],
 "metadata": {
  "anaconda-cloud": {},
  "kernel_info": {
   "name": "python3"
  },
  "kernelspec": {
   "display_name": "Python 3 (ipykernel)",
   "language": "python",
   "name": "python3"
  },
  "language_info": {
   "codemirror_mode": {
    "name": "ipython",
    "version": 3
   },
   "file_extension": ".py",
   "mimetype": "text/x-python",
   "name": "python",
   "nbconvert_exporter": "python",
   "pygments_lexer": "ipython3",
   "version": "3.9.7"
  },
  "latex_envs": {
   "LaTeX_envs_menu_present": true,
   "autoclose": false,
   "autocomplete": true,
   "bibliofile": "biblio.bib",
   "cite_by": "apalike",
   "current_citInitial": 1,
   "eqLabelWithNumbers": true,
   "eqNumInitial": 1,
   "hotkeys": {
    "equation": "Ctrl-E",
    "itemize": "Ctrl-I"
   },
   "labels_anchors": false,
   "latex_user_defs": false,
   "report_style_numbering": false,
   "user_envs_cfg": false
  },
  "nteract": {
   "version": "0.8.4"
  }
 },
 "nbformat": 4,
 "nbformat_minor": 1
}
